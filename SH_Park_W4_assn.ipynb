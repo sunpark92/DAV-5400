{
 "cells": [
  {
   "cell_type": "markdown",
   "metadata": {},
   "source": [
    "### task 1"
   ]
  },
  {
   "cell_type": "code",
   "execution_count": 11,
   "metadata": {},
   "outputs": [
    {
     "name": "stdout",
     "output_type": "stream",
     "text": [
      "[2 4]\n"
     ]
    }
   ],
   "source": [
    "# Import numpy as np\n",
    "import numpy as np\n",
    "a = np.array([1, 2, 3, 2, 3, 4, 3, 4, 5, 6])\n",
    "b = np.array([7, 2, 10, 2, 7, 4, 9, 4, 9, 8])\n",
    "# use np.intersect1d function to get the value\n",
    "print(np.intersect1d(a,b))"
   ]
  },
  {
   "cell_type": "markdown",
   "metadata": {},
   "source": [
    "### task 2"
   ]
  },
  {
   "cell_type": "code",
   "execution_count": 5,
   "metadata": {},
   "outputs": [
    {
     "data": {
      "text/plain": [
       "array([ 1,  2,  3,  4,  5,  6,  7,  8,  9, 10, 11, 12, 13, 14, 15])"
      ]
     },
     "execution_count": 5,
     "metadata": {},
     "output_type": "execute_result"
    }
   ],
   "source": [
    "# create array a range from 1 to 15\n",
    "a = np.arange(1,16)"
   ]
  },
  {
   "cell_type": "code",
   "execution_count": 7,
   "metadata": {},
   "outputs": [
    {
     "data": {
      "text/plain": [
       "array([[ 1,  2,  3,  4,  5],\n",
       "       [ 6,  7,  8,  9, 10],\n",
       "       [11, 12, 13, 14, 15]])"
      ]
     },
     "execution_count": 7,
     "metadata": {},
     "output_type": "execute_result"
    }
   ],
   "source": [
    "# reshape the array first\n",
    "a=a.reshape(3,5)\n",
    "a"
   ]
  },
  {
   "cell_type": "code",
   "execution_count": 8,
   "metadata": {},
   "outputs": [
    {
     "data": {
      "text/plain": [
       "array([[ 1,  6, 11],\n",
       "       [ 2,  7, 12],\n",
       "       [ 3,  8, 13],\n",
       "       [ 4,  9, 14],\n",
       "       [ 5, 10, 15]])"
      ]
     },
     "execution_count": 8,
     "metadata": {},
     "output_type": "execute_result"
    }
   ],
   "source": [
    "# reshape array again for a 5x3 form\n",
    "a.T"
   ]
  },
  {
   "cell_type": "markdown",
   "metadata": {},
   "source": [
    "### task 3"
   ]
  },
  {
   "cell_type": "code",
   "execution_count": null,
   "metadata": {},
   "outputs": [],
   "source": [
    "# create two arrays a, b"
   ]
  },
  {
   "cell_type": "code",
   "execution_count": 34,
   "metadata": {},
   "outputs": [],
   "source": [
    "a = np.array([12, 5, 7, 15, 3, 1, 8])\n",
    "b = np.array([14, 6, 3, 11, 19, 12, 5])"
   ]
  },
  {
   "cell_type": "code",
   "execution_count": 37,
   "metadata": {},
   "outputs": [
    {
     "name": "stdout",
     "output_type": "stream",
     "text": [
      "[ 7 15  1  8]\n"
     ]
    }
   ],
   "source": [
    "# Write a Python/Numpy code block that removes from array a any items that are also present in array b.\n",
    "# use np.itersect1d function, Value P\n",
    "P = np.intersect1d(a, b)\n",
    "for i in range(len(P)):\n",
    "    a = a[a!=P[i]]  \n",
    "print(a)"
   ]
  },
  {
   "cell_type": "markdown",
   "metadata": {},
   "source": [
    "### task 4"
   ]
  },
  {
   "cell_type": "markdown",
   "metadata": {},
   "source": [
    "1. From Google, the distance between nyc to key west is 1443 miles\n",
    "2. 4 days, no cycling\n",
    "3. use np.random.randint(30,1443,35), which means generate 35 random integer numbers, the range is 1 to 1443.\n",
    "4. use np.sort function, so the result will be cumulative miles of the recorded each day during the trip\n",
    "5. np.diff(a) funciton to get the total miles \n",
    "6. combine two arrays, to get the complete total miles"
   ]
  },
  {
   "cell_type": "code",
   "execution_count": 49,
   "metadata": {},
   "outputs": [
    {
     "name": "stdout",
     "output_type": "stream",
     "text": [
      "[  60   60  226  231  380  418  483  569  572  604  612  637  637  654\n",
      "  747  749  751  753  809  871  885  919  934  960  960  981  990  990\n",
      " 1012 1072 1091 1091 1260 1386 1443]\n"
     ]
    }
   ],
   "source": [
    "import numpy as np\n",
    "record = np.random.randint(30,1443,35)\n",
    "for i in np.random.randint(1,34,4):\n",
    "    record[i]=record[i-1]\n",
    "    \n",
    "record[34] = 1443\n",
    "daily = np.sort(record)\n",
    "print(daily)"
   ]
  },
  {
   "cell_type": "code",
   "execution_count": 50,
   "metadata": {},
   "outputs": [
    {
     "name": "stdout",
     "output_type": "stream",
     "text": [
      "[ 60   0 166   5 149  38  65  86   3  32   8  25   0  17  93   2   2   2\n",
      "  56  62  14  34  15  26   0  21   9   0  22  60  19   0 169 126  57]\n"
     ]
    }
   ],
   "source": [
    "i = daily[0]\n",
    "each_day = np.append(i,np.diff(daily))\n",
    "print(each_day)"
   ]
  },
  {
   "cell_type": "markdown",
   "metadata": {},
   "source": [
    "### task 5"
   ]
  },
  {
   "cell_type": "code",
   "execution_count": 18,
   "metadata": {},
   "outputs": [],
   "source": [
    "import pandas\n",
    "import numpy as np"
   ]
  },
  {
   "cell_type": "code",
   "execution_count": 51,
   "metadata": {},
   "outputs": [
    {
     "name": "stderr",
     "output_type": "stream",
     "text": [
      "/Users/sunheepark/anaconda3/lib/python3.7/site-packages/ipykernel_launcher.py:4: FutureWarning: Method .as_matrix will be removed in a future version. Use .values instead.\n",
      "  after removing the cwd from sys.path.\n"
     ]
    },
    {
     "data": {
      "text/plain": [
       "numpy.ndarray"
      ]
     },
     "execution_count": 51,
     "metadata": {},
     "output_type": "execute_result"
    }
   ],
   "source": [
    "# supress scientific notation\n",
    "np.set_printoptions(suppress = True)\n",
    "# read the data file from Github and convert to a numpy\n",
    "nyc_water = pandas.read_csv('https://raw.githubusercontent.com/jtopor/DAV-5400/master/Week4/Water_Consumption_In_The_New_York_City.csv').as_matrix()\n",
    "type(nyc_water)"
   ]
  },
  {
   "cell_type": "code",
   "execution_count": 52,
   "metadata": {},
   "outputs": [
    {
     "name": "stdout",
     "output_type": "stream",
     "text": [
      "[[   1979.  7102100.     1512.      213. ]\n",
      " [   1980.  7071639.     1506.      213. ]\n",
      " [   1981.  7089241.     1309.      185. ]\n",
      " [   1982.  7109105.     1382.      194. ]\n",
      " [   1983.  7181224.     1424.      198. ]\n",
      " [   1984.  7234514.     1465.      203. ]\n",
      " [   1985.  7274054.     1326.      182. ]\n",
      " [   1986.  7319246.     1351.      185. ]\n",
      " [   1987.  7342476.     1447.      197. ]\n",
      " [   1988.  7353719.     1484.      202. ]\n",
      " [   1989.  7344175.     1402.      191. ]\n",
      " [   1990.  7335650.     1424.      194. ]\n",
      " [   1991.  7374501.     1469.      199. ]\n",
      " [   1992.  7428944.     1369.      184. ]\n",
      " [   1993.  7506166.     1368.5     182. ]\n",
      " [   1994.  7570458.     1357.7     179. ]\n",
      " [   1995.  7633040.     1325.7     174. ]\n",
      " [   1996.  7697812.     1297.9     169. ]\n",
      " [   1997.  7773443.     1205.5     155. ]\n",
      " [   1998.  7858259.     1219.5     155. ]\n",
      " [   1999.  7947660.     1237.2     156. ]\n",
      " [   2000.  8008278.     1240.4     155. ]\n",
      " [   2001.  8024963.5    1184.      148. ]\n",
      " [   2002.  8041649.     1135.6     141. ]\n",
      " [   2003.  8058334.5    1093.7     136. ]\n",
      " [   2004.  8075020.     1099.5     136. ]\n",
      " [   2005.  8091705.5    1138.      141. ]\n",
      " [   2006.  8108391.     1069.      132. ]\n",
      " [   2007.  8125076.5    1114.      137. ]\n",
      " [   2008.  8141762.     1098.      135. ]\n",
      " [   2009.  8158447.5    1007.5     123. ]\n",
      " [   2010.  8175133.     1039.      127. ]\n",
      " [   2011.  8284098.     1021.      123. ]\n",
      " [   2012.  8361179.     1009.1     121. ]\n",
      " [   2013.  8422460.     1006.1     119. ]\n",
      " [   2014.  8471990.      996.      118. ]\n",
      " [   2015.  8516502.     1009.      118. ]\n",
      " [   2016.  8537673.     1002.      117. ]\n",
      " [   2017.  8622698.      990.2     115. ]]\n"
     ]
    }
   ],
   "source": [
    "print(nyc_water)"
   ]
  },
  {
   "cell_type": "code",
   "execution_count": 23,
   "metadata": {},
   "outputs": [
    {
     "data": {
      "text/plain": [
       "1512.0"
      ]
     },
     "execution_count": 23,
     "metadata": {},
     "output_type": "execute_result"
    }
   ],
   "source": [
    "#use 'max' function to get the maxinum values\n",
    "nyc_water[:,2].max()"
   ]
  },
  {
   "cell_type": "code",
   "execution_count": 25,
   "metadata": {},
   "outputs": [
    {
     "data": {
      "text/plain": [
       "39"
      ]
     },
     "execution_count": 25,
     "metadata": {},
     "output_type": "execute_result"
    }
   ],
   "source": [
    "# create array 'calendar'\n",
    "calendar=np.shape(nyc_water)\n",
    "# how many calendar years are showed in this data set?\n",
    "calendar[0]"
   ]
  },
  {
   "cell_type": "code",
   "execution_count": 27,
   "metadata": {},
   "outputs": [
    {
     "name": "stdout",
     "output_type": "stream",
     "text": [
      "consump: 160.30769230769232\n"
     ]
    }
   ],
   "source": [
    "# create the other array \n",
    "#3 What is the mean and the standard deviation of the per capita daily water consumption?\n",
    "# use nyc_water[:,3] to slice this data set and get the per capita daily water consumption yearly\n",
    "# use mean() function to get the mean values\n",
    "print('consump:',nyc_water[:,3].mean())\n"
   ]
  },
  {
   "cell_type": "code",
   "execution_count": 53,
   "metadata": {},
   "outputs": [
    {
     "name": "stdout",
     "output_type": "stream",
     "text": [
      "standard: 31.51894330370624\n"
     ]
    }
   ],
   "source": [
    "# use np.std functin to get the standard value\n",
    "print('standard:', np.std(nyc_water[:,3]))"
   ]
  },
  {
   "cell_type": "code",
   "execution_count": null,
   "metadata": {},
   "outputs": [],
   "source": []
  },
  {
   "cell_type": "code",
   "execution_count": null,
   "metadata": {},
   "outputs": [],
   "source": []
  }
 ],
 "metadata": {
  "kernelspec": {
   "display_name": "Python 3",
   "language": "python",
   "name": "python3"
  },
  "language_info": {
   "codemirror_mode": {
    "name": "ipython",
    "version": 3
   },
   "file_extension": ".py",
   "mimetype": "text/x-python",
   "name": "python",
   "nbconvert_exporter": "python",
   "pygments_lexer": "ipython3",
   "version": "3.7.3"
  }
 },
 "nbformat": 4,
 "nbformat_minor": 2
}
