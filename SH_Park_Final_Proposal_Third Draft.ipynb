{
 "cells": [
  {
   "cell_type": "markdown",
   "metadata": {},
   "source": [
    "# DAV 5400 Final Project Proposal - Bike Sharing Service\n",
    "\n",
    "### Team members: Sun Hee Park, Manling Yang"
   ]
  },
  {
   "cell_type": "markdown",
   "metadata": {},
   "source": [
    "## Introduction\n",
    "\n",
    "Today, there are many ride-sharing companies that offer users to share car rides, or ride electric scooters or bikes. These companies are very popular, and Uber and Lyft are even called \"unicorns,\" which are startup companies valued at over $1 billion. Lime or Birds, the electric scooter-sharing startup companies, are also popular in San Francisco, Chicago and even in Paris. However, bike sharing is the worthiest of notice to be analyzed now and even for the future. It is because people face practical and realistic problems when sharing and cars and electric scooters which do not exist when people share bikes. \n",
    "\n",
    "For example, with car sharing, people have to get a driver's license. They also have to have car insurance and they have to pay extra costs for gas or tiny scratches that might be occur while driving. Regarding electric scooters, safety is considered to be an issue. In California, Electric Scooter Helmet Laws took effect in 2019. However, it is hard to bring a helmet to ride an electric scooter because people usually take a scooter when they go shorter distances than when they go with a car or a bike. \n",
    "\n",
    "A bike can solve these problems. People do not have to have a car insurance or a driver's license. A bike is also safer than an electric scooter. __According to the Washington Post, two Los Angeles emergency departments__, more people were injured while riding standing electric scooters than by riding bicycles or traveling on foot, according to the results of a groundbreaking study. \n",
    "\n",
    "The Washington Post also showed that __the medical journal JAMA Network Open__ mentioned “The Riders share roads with fast-moving vehicular traffic but appear to underestimate hazards; we found that 94.3% of observed riders in our community were not wearing a helmet,” the study said of scooter users. “While riders of electric scooters in California are required to be at least 16 years old by state law and 18 years old by company rental agreements, we found that 10.8% of electric scooter injuries were in patients younger than 18 years.\" The study added, Although California law required helmet use while operating electric scooters during the entire study period, only 4.4% of injured scooter riders were documented to be wearing a helmet.\""
   ]
  },
  {
   "cell_type": "markdown",
   "metadata": {},
   "source": [
    "## Research Questions\n",
    "\n",
    "Along with increasing number of Bike-Sharing users, companies want to analyze their customer's data. They want to conduct marketing based on users who are mostly using the service. We expected that the companies assume main factors as 'time', 'age', and 'gender' for analyzing their data. \n",
    "\n",
    "In addition, we are also going to compare popularity in using this service in two cities - Chicago and New York.\n",
    "Thus, the questions that we take into account are:\n",
    "\n",
    "- __When (specific time) do people mostly use bike-sharing service?__\n",
    "\n",
    "- __Which age range of is mostly using bike-sharing service?__\n",
    "\n",
    "- __Which gender is the main users in both city?__ \n",
    "\n",
    "- __Which city is more popular to use the bike sharing services?__ "
   ]
  },
  {
   "cell_type": "markdown",
   "metadata": {},
   "source": [
    "## Data to be Used\n",
    "\n",
    "- The first data set('Chicago-Divvy-2016') is a CSV from Kaggle. \n",
    "- (https://www.kaggle.com/samratp/bikeshare-analysis#Chicago-Divvy-2016.csv)\n",
    "\n",
    "- The second data ('NYC-BikeShare-2015-2017-combined') is a SQL file. \n",
    "\n",
    "__The attribuates meaning of the first data sources:__\n",
    "1. trip_id: the id of the trip\n",
    "2. starttime: Time to star to use bike sharing services\n",
    "3. stoptime: Time to stop to use bike sharing services\n",
    "4. bikeid: the id of bike\n",
    "5. tripduration: time in sec\n",
    "6. from_station_id: The id of the bike station for people star to use bike sahring services\n",
    "7. from_station_name: The name of the bike station for people star to use bike sahring services\n",
    "8. to_station_id: The id of the bike station for people stop to use bike sahring services\n",
    "9. to_station_name: The name of the bike station for people stop to use bike sahring services\n",
    "10. usertype:the type of bike sharing's user\n",
    "11. gender: the gender of bike sharing's user\n",
    "12. birthyear: the birth year of bike sharing's user\n",
    "\n",
    "__the attribuate of the second data sources:__\n",
    "1. Trip Duration: the\n",
    "2. Start Time: Time to star to use bike sharing services\n",
    "3. Stop Time： Time to stop to use bike sharing services\n",
    "4. Start Station ID: The id of the bike station for people star to use bike sahring services\n",
    "5. Start Station Name: The name of the bike station for people star to use bike sahring services\n",
    "6. Start Station Latitude: The latitude of the bike station for people star to use bike sahring services\n",
    "7. Start Station Longitude: The longtitude of the bike station for people star to use bike sahring services\n",
    "8. End Station ID: The id of the bike station for people stop to use bike sahring services\n",
    "9. End Station Name: The name of the bike station for people stop to use bike sahring services\n",
    "10. End Station Latitude: The latitude of the bike station for people stop to use bike sahring services\n",
    "11. End Station Longitude: The longtitude of the bike station for people stop to use bike sahring services\n",
    "12. Bike ID: The id of the bike\n",
    "13. User Type: the type of bike sharing's user\n",
    "14. Birth Year: the birth year of bike sharing's user\n",
    "15. Gender: the gender of bike sharing's user\n",
    "16. Trip_Duration_in_min: The total minutes from star time and stop time"
   ]
  },
  {
   "cell_type": "markdown",
   "metadata": {},
   "source": [
    "## Approach\n",
    "\n",
    "In this project, we are going to investigate the ride-sharing market first to understand our data well. Then we will start analyzing the data from Kaggle to understand what are considered to be influential factors for the bike-sharing service. \n",
    "\n",
    "After the investigation, we are going to cleanse NYC-BikeShare data because it includes data from 2015 and 2017 as well. We are going to use only data from 2016 to compare with Chicago data from 2016. After that, we will also cleanse both data because these data should have the same column names or the same types of attributes to be compared. Then we will store our data as CSV format on github.\n",
    "\n",
    "To analyze our data, we would apply a histogram and a box plot to figure out time and age range that the bike-sharing service is mostly used from. After than, we are going to use bar, histogram, scatter, line graphes to figure out the third and the last question. \n"
   ]
  },
  {
   "cell_type": "markdown",
   "metadata": {},
   "source": [
    "## References\n",
    "\n",
    "https://www.kaggle.com/samratp/bikeshare-analysis#Chicago-Divvy-2016.csv\n",
    "\n",
    "https://www.bbc.com/news/uk-48106617\n",
    "\n",
    "https://www.walkuplawoffice.com/2019/06/19/2019-electric-scooter-helmet-laws-in-california/\n",
    "\n",
    "https://www.washingtonpost.com/technology/2019/01/25/electric-scooters-send-more-people-hospital-than-bicycles-walking-new-study-finds/"
   ]
  },
  {
   "cell_type": "code",
   "execution_count": null,
   "metadata": {},
   "outputs": [],
   "source": []
  }
 ],
 "metadata": {
  "kernelspec": {
   "display_name": "Python 3",
   "language": "python",
   "name": "python3"
  },
  "language_info": {
   "codemirror_mode": {
    "name": "ipython",
    "version": 3
   },
   "file_extension": ".py",
   "mimetype": "text/x-python",
   "name": "python",
   "nbconvert_exporter": "python",
   "pygments_lexer": "ipython3",
   "version": "3.7.3"
  }
 },
 "nbformat": 4,
 "nbformat_minor": 2
}
