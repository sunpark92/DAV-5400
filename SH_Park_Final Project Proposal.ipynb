{
 "cells": [
  {
   "cell_type": "markdown",
   "metadata": {},
   "source": [
    "## Introduction\n",
    "### Bike Sharing service\n",
    "\n",
    "Today, there are many ride-sharing companies that offer users to share car rides, or ride electric scooters or bikes. These companies are very popular, and Uber and Lyft are even called \"unicorns,\" which are startup companies valued at over $1 billion. Lime or Birds, the electric scooter-sharing startup companies, are also popular in San Francisco, Chicago and even in Paris. However, bike sharing is the most worthy of notice to be analyzed now and even for the future. It is because people face practical and realistic problems when sharing and cars and electric scooters which do not exist when people share bikes. \n",
    "\n",
    "For example, with car sharing, people have to get a driver's license. They also have to have car insurance and they have to pay extra costs for gas or tiny scratches that might be occur while driving. Regarding electric scooters, safety is considered to be an issue. In California, Electric Scooter Helmet Laws took effect in 2019. However, it is hard to bring a helmet to ride an electric scooter because people usually take a scooter when they go shorter distances than when they go with a car or a bike. \n",
    "\n",
    "A bike can solve these problems. People do not have to have a car insurance or a driver's license. A bike is also safer than an electric scooter. __According to the Washington Post, two Los Angeles emergency departments__, more people were injured while riding standing electric scooters than by riding bicycles or traveling on foot, according to the results of a groundbreaking study. \n",
    "\n",
    "The Washington Post also showed that __the medical journal JAMA Network Open__ mentioned “The Riders share roads with fast-moving vehicular traffic but appear to underestimate hazards; we found that 94.3% of observed riders in our community were not wearing a helmet,” the study said of scooter users. “While riders of electric scooters in California are required to be at least 16 years old by state law and 18 years old by company rental agreements, we found that 10.8% of electric scooter injuries were in patients younger than 18 years.\" The study added, Although California law required helmet use while operating electric scooters during the entire study period, only 4.4% of injured scooter riders were documented to be wearing a helmet.\""
   ]
  },
  {
   "cell_type": "markdown",
   "metadata": {},
   "source": [
    "## Research Questions\n",
    "\n",
    "There are various factors that affect people using this bike sharing service. I will expect the factors will be when (specific time) and how many people will use this sharing service. For example, people usually use this service during the daytime more than at dawn or late at night. People also use this service on sunny days more than rainy days. In addition, people may use this service in the summer more than during winter.\n",
    "Thus, the questions that I should take into account are\n",
    "\n",
    "- __When (specific time) do people mostly use this bike-sharing service?__\n",
    "\n",
    "- __With the answer from analyzing the first question, why do people usually use this service?__\n",
    "\n",
    "- __Among the given conditions (season, weather, week days, holidays, etc) what are noticeable factors that affect usage?__\n"
   ]
  },
  {
   "cell_type": "markdown",
   "metadata": {},
   "source": [
    "## Data to be Used\n",
    "\n",
    "The first data set('Bike Sharing in Washington D.C. Dataset') is a CSV from Kaggle. \n",
    "- instant: Record index\n",
    "- dteday: Date\n",
    "- season: Season (1:springer, 2:summer, 3:fall, 4:winter)\n",
    "- yr: Year (0: 2011, 1:2012)\n",
    "- mnth: Month (1 to 12)\n",
    "- hr: Hour (0 to 23)\n",
    "- holiday: weather day is holiday or not (extracted from Holiday Schedule)\n",
    "- weekday: Day of the week\n",
    "- workingday: If day is neither weekend nor holiday is 1, otherwise is 0.\n",
    "- weathersit: (extracted from Freemeteo)\n",
    "    - 1: Clear, Few clouds, Partly cloudy, Partly cloudy\n",
    "    - 2: Mist + Cloudy, Mist + Broken clouds, Mist + Few clouds, Mist\n",
    "    - 3: Light Snow, Light Rain + Thunderstorm + Scattered clouds, Light Rain + Scattered clouds\n",
    "    - 4: Heavy Rain + Ice Pallets + Thunderstorm + Mist, Snow + Fog\n",
    "- temp: Normalized temperature in Celsius. The values are derived via (t-t_min)/(t_max-t_min), t_min=-8, t_max=+39 (only in hourly scale)\n",
    "- atemp: Normalized feeling temperature in Celsius. The values are derived via (t-t_min)/(t_max-t_min), t_min=-16, t_max=+50 (only in hourly scale)\n",
    "- hum: Normalized humidity. The values are divided to 100 (max)\n",
    "- windspeed: Normalized wind speed. The values are divided to 67 (max)\n",
    "- casual: count of casual users\n",
    "- registered: count of registered users\n",
    "- cnt: count of total rental bikes including both casual and registered\n",
    "\n",
    "The second data set will be collected come from the company's official website and Instagram account which is the main social media method that the company is currently using. The data collected will be stored in a SQL database."
   ]
  },
  {
   "cell_type": "markdown",
   "metadata": {},
   "source": [
    "## Approach\n",
    "\n",
    "In this project, I am going to investigate the ride-sharing market first. Then I will start analyzing the data from Kaggle to understand what are considered to be influential factors for the bike-sharing service. There are two CSV files in this data set: 1) day.csv and 2)hour.csv. The first one has 731 records and the second one has 17,379 records.\n",
    "\n",
    "First of all, I am going to do data cleansing by changing the datetime column. After this, for more effective analysis and after answering the first question, I will analyze the year and month together. For example, I will divide the year and month into 24 parts from 2011/1 ~ 2012/12. After this, I will use time, working day and holiday data with the visualized graphs to analyze when people usually use this service.\n",
    "\n",
    "I will store the data related to usage of this service in a SQL database. \n",
    "First of all, I will analyze what events/promotions they held from researching company's official website, Instagram account and application. And then I will extract data about change in usage of this service during the same period. Also, I am going to research application as well to investigate how many bikes/how many places they are offering this service to figure out where/why they are investing for their business in the future. "
   ]
  },
  {
   "cell_type": "markdown",
   "metadata": {},
   "source": [
    "## References\n",
    "\n",
    "[Capital Bikeshare official website] - https://www.capitalbikeshare.com\n",
    "\n",
    "[Capital Bikeshare official instagram account] - \n",
    "https://www.instagram.com/capitalbikeshare/\n",
    "\n",
    "[Other References]\n",
    "\n",
    "\n",
    "https://www.bbc.com/news/uk-48106617\n",
    "\n",
    "https://www.walkuplawoffice.com/2019/06/19/2019-electric-scooter-helmet-laws-in-california/\n",
    "\n",
    "https://www.washingtonpost.com/technology/2019/01/25/electric-scooters-send-more-people-hospital-than-bicycles-walking-new-study-finds/\n"
   ]
  },
  {
   "cell_type": "code",
   "execution_count": null,
   "metadata": {},
   "outputs": [],
   "source": []
  }
 ],
 "metadata": {
  "kernelspec": {
   "display_name": "Python 3",
   "language": "python",
   "name": "python3"
  },
  "language_info": {
   "codemirror_mode": {
    "name": "ipython",
    "version": 3
   },
   "file_extension": ".py",
   "mimetype": "text/x-python",
   "name": "python",
   "nbconvert_exporter": "python",
   "pygments_lexer": "ipython3",
   "version": "3.7.3"
  }
 },
 "nbformat": 4,
 "nbformat_minor": 2
}
