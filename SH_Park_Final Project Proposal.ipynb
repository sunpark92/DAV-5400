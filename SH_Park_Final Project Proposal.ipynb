{
 "cells": [
  {
   "cell_type": "markdown",
   "metadata": {},
   "source": [
    "## Introduction\n",
    "### Bike Sharing service\n",
    "\n",
    "Today, there are a lot of sharing vehicles to ride on such as cars, electric scooters or bikes.\n",
    "These sharing vehicles are very popular, and Uber and Lyft are even called 'unicorn' which means a startup company valued at over $1 billion. Lime or Birds, the electric scooter sharing startup companies, are also popular in San Francisco, Chicago and even in Paris. \n",
    "However, among these various vehicles, I think the Bike Sharing is the most worthy of notice to be analyzed now and even for the future. It is because people face practical, realistic problems when they use car sharing and electric scooters sharing services which are not existing when people use bike sharing. \n",
    "For example, with car sharing, people have to get a driver's license. They also have to have a car insurance and they have to pay extra fee for gas or tiny scratches that might be created by driving.\n",
    "About electric scooters, parents are still worrited about its safety. In California, Electric Scooter Helmet Laws took effect this year (2019). However, it is hard to bring a helmet to ride am electric scooter because people usually take the scooter when they go shorter way than when they go with a car or a bike. \n",
    "Bike can solve these problems. People don't have to have a car insurance or a driver's license. Bike is also safer than an electric scooter. We know this fact from that there is no law that requeirs a helmet while people ride a bike. "
   ]
  },
  {
   "cell_type": "markdown",
   "metadata": {},
   "source": [
    "## Research Questions\n",
    "\n",
    "There are various factors that affect people to use this bike sharing service. \n",
    "I will expect When(specific time)/HOW MANY people use this sharing service. For example, people usually use this service during day time more than dawn or late night. People also use this service on sunny day more than rainy day. In addition, people maybe use this service during summer more than during winter. \n",
    "\n",
    "So the questions that I should take into account are\n",
    "- __When (specific time) do people mostly use this bike sharing service?__\n",
    "\n",
    "- __With the answer from analzing the first question, why people usually use this service?__\n",
    "\n",
    "- __Among the given conditions (season, weather, working day, holiday, etc) what are noticeable factors that affect on usage?__\n"
   ]
  },
  {
   "cell_type": "markdown",
   "metadata": {},
   "source": [
    "## Data to be Used\n",
    "\n",
    "The first data set('Bike Sharing in Washington D.C. Dataset') is a CSV from Kaggle. \n",
    "- instant: Record index\n",
    "- dteday: Date\n",
    "- season: Season (1:springer, 2:summer, 3:fall, 4:winter)\n",
    "- yr: Year (0: 2011, 1:2012)\n",
    "- mnth: Month (1 to 12)\n",
    "- hr: Hour (0 to 23)\n",
    "- holiday: weather day is holiday or not (extracted from Holiday Schedule)\n",
    "- weekday: Day of the week\n",
    "- workingday: If day is neither weekend nor holiday is 1, otherwise is 0.\n",
    "- weathersit: (extracted from Freemeteo)\n",
    "    - 1: Clear, Few clouds, Partly cloudy, Partly cloudy\n",
    "    - 2: Mist + Cloudy, Mist + Broken clouds, Mist + Few clouds, Mist\n",
    "    - 3: Light Snow, Light Rain + Thunderstorm + Scattered clouds, Light Rain + Scattered clouds\n",
    "    - 4: Heavy Rain + Ice Pallets + Thunderstorm + Mist, Snow + Fog\n",
    "- temp: Normalized temperature in Celsius. The values are derived via (t-t_min)/(t_max-t_min), t_min=-8, t_max=+39 (only in hourly scale)\n",
    "- atemp: Normalized feeling temperature in Celsius. The values are derived via (t-t_min)/(t_max-t_min), t_min=-16, t_max=+50 (only in hourly scale)\n",
    "- hum: Normalized humidity. The values are divided to 100 (max)\n",
    "- windspeed: Normalized wind speed. The values are divided to 67 (max)\n",
    "- casual: count of casual users\n",
    "- registered: count of registered users\n",
    "- cnt: count of total rental bikes including both casual and registered\n",
    "\n",
    "The second data set will be collected come from the company's official website and instagram which is the main social media method that company's currently using. The data collected will be stored in a SQL database. "
   ]
  },
  {
   "cell_type": "markdown",
   "metadata": {},
   "source": [
    "## Approach\n",
    "\n",
    "In this project, I am going to investigate sharing market first. \n",
    "And then I will start analyzing the data from Kaggle to understand what are considered as influential factors for bike sharing service. \n",
    "There are two csv file in this data set: 1) day.csv and 2)hour.csv. \n",
    "The first one 731 records and the second one has 17,379 records. \n",
    "\n",
    "First of I will do data cleansing, for example, change datetime column.\n",
    "\n",
    "After this, for effective analyzing and then answering the first question, I will analyze year and month together. For example, I will divide year and month as 24 parts from 2011/1 ~ 2012/12. After this, I will use time, working day and holiday data by visualized graphes to analyze when people usually use. \n",
    "\n",
    "I will store the ones related to usage of this services in a SQL database.\n",
    "Then I will extract data from instagram and company's official website  about this sharing service. I am going to store data from these two methods in a SQL database. "
   ]
  },
  {
   "cell_type": "markdown",
   "metadata": {},
   "source": [
    "## References\n",
    "\n",
    "https://www.capitalbikeshare.com\n",
    "\n",
    "https://www.bbc.com/news/uk-48106617\n",
    "\n",
    "https://www.walkuplawoffice.com/2019/06/19/2019-electric-scooter-helmet-laws-in-california/\n"
   ]
  },
  {
   "cell_type": "code",
   "execution_count": null,
   "metadata": {},
   "outputs": [],
   "source": []
  }
 ],
 "metadata": {
  "kernelspec": {
   "display_name": "Python 3",
   "language": "python",
   "name": "python3"
  },
  "language_info": {
   "codemirror_mode": {
    "name": "ipython",
    "version": 3
   },
   "file_extension": ".py",
   "mimetype": "text/x-python",
   "name": "python",
   "nbconvert_exporter": "python",
   "pygments_lexer": "ipython3",
   "version": "3.7.3"
  }
 },
 "nbformat": 4,
 "nbformat_minor": 2
}
