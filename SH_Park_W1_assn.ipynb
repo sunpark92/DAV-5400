{
 "cells": [
  {
   "cell_type": "markdown",
   "metadata": {},
   "source": [
    "github: https://github.com/sunpark92/DAV-5400/blob/master/draymond.csv"
   ]
  },
  {
   "cell_type": "markdown",
   "metadata": {},
   "source": [
    "data set from: https://fivethirtyeight.com/features/a-better-way-to-evaluate-nba-defense/"
   ]
  },
  {
   "cell_type": "markdown",
   "metadata": {},
   "source": [
    "I’ve had an interest in sports and sports journalism since I was an undergraduate student. Especially, when I lived in San Francisco, sometimes I watched Golden State Warrior’s game with my co-workers who really loves watching basketball games! As of that time, I really wanted to learn about basketball even though I did not know anything about basketball untill that time.  \n",
    "With this data, I think I can know who are the best/good defenders and learn about basketball more while analyzing the data set. \n",
    "I want to make use of this data to know how to calculate exact percentage of correct **DRAYMOND** (**D**efensive/**R**ating/**A**ccounting for /**Y**ielding/**M**inimal/**O**penness by/**N**earest/**D**efender). \n",
    "\n",
    "\n",
    "I think I should ask/adjust the standard to analyze data first. For example, I would ask *‘which seasons were used?’, ‘which location did players stand for shooting?’, ‘who was the best/worst defender in a specific year?’, etc*. I will answer the questions based on the analyzed data set. "
   ]
  },
  {
   "cell_type": "code",
   "execution_count": null,
   "metadata": {},
   "outputs": [],
   "source": []
  }
 ],
 "metadata": {
  "kernelspec": {
   "display_name": "Python 3",
   "language": "python",
   "name": "python3"
  },
  "language_info": {
   "codemirror_mode": {
    "name": "ipython",
    "version": 3
   },
   "file_extension": ".py",
   "mimetype": "text/x-python",
   "name": "python",
   "nbconvert_exporter": "python",
   "pygments_lexer": "ipython3",
   "version": "3.7.3"
  }
 },
 "nbformat": 4,
 "nbformat_minor": 2
}
