{
 "cells": [
  {
   "cell_type": "code",
   "execution_count": 9,
   "metadata": {},
   "outputs": [
    {
     "name": "stdout",
     "output_type": "stream",
     "text": [
      "['med', 'small', 'big', 'big', 'med', 'small', 'med', 'big', 'small', 'med', 'med', 'small', 'big', 'big', 'big', 'med', 'small', 'med', 'med', 'big', 'big', 'small', 'med', 'big', 'big', 'big', 'small', 'med', 'big', 'med', 'med', 'med', 'med', 'big', 'big']\n"
     ]
    }
   ],
   "source": [
    "import csv\n",
    "Price=[]\n",
    "Maintenance_cost=[]\n",
    "Num_of_doors=[]\n",
    "Num_of_passengers=[]\n",
    "Lugg_capacity=[]\n",
    "Safe_rating=[]\n",
    "Class_of_vehicle=[]\n",
    "with open('cars-sample35.txt') as csvfile: \n",
    "    readCSV = csv.reader(csvfile)\n",
    "    for row in readCSV:\n",
    "# Insert values to each list according to index number\n",
    "        Price.append(row[0])\n",
    "        Maintenance_cost.append(row[1])\n",
    "        Num_of_doors.append(row[2])\n",
    "        Num_of_passengers.append(row[3])\n",
    "        Lugg_capacity.append(row[4])\n",
    "        Safe_rating.append(row[5])\n",
    "        Class_of_vehicle.append(row[6])\n",
    "print(Lugg_capacity)"
   ]
  },
  {
   "cell_type": "markdown",
   "metadata": {},
   "source": [
    "# First task"
   ]
  },
  {
   "cell_type": "code",
   "execution_count": 15,
   "metadata": {},
   "outputs": [
    {
     "name": "stdout",
     "output_type": "stream",
     "text": [
      "[6, 16, 20, 23, 26, 29]\n"
     ]
    }
   ],
   "source": [
    "# Find the list index values of each automobile having a price rating of \"med\". \n",
    "# Use list comprehension instead of a basic for or while loop. \n",
    "# Print your results to the screen.\n",
    "\n",
    "# create a list 'med_index' for list index values\n",
    "med_index = []\n",
    "# Create a list list_index which has A price rating of \"med\"\n",
    "med_index = [i for i in range(len(Price)) if Price[i] == 'med']\n",
    "# print the list index value\n",
    "print(med_index)"
   ]
  },
  {
   "cell_type": "markdown",
   "metadata": {},
   "source": [
    "# Second task"
   ]
  },
  {
   "cell_type": "code",
   "execution_count": 13,
   "metadata": {},
   "outputs": [
    {
     "name": "stdout",
     "output_type": "stream",
     "text": [
      "['more', '2', '2', '2', '4', '2']\n"
     ]
    }
   ],
   "source": [
    "# Find the \"number of passengers\" value for each auto having a \"price\" value of \"med\" \n",
    "# using a list comprehension instead of a basic for or while loop. \n",
    "# Print your results to the screen.\n",
    "\n",
    "# create a list 'num_p' for number of passengers\n",
    "num_p = []\n",
    "# using a list comprehension,in range len(Price),if the value of Price[i] is 'med', \n",
    "num_p = [Num_of_passengers[i] for i in range(len(Price)) if Price[i] == 'med']\n",
    "# print the num_p(number of passengers)\n",
    "print(num_p)"
   ]
  },
  {
   "cell_type": "markdown",
   "metadata": {},
   "source": [
    "# Third task"
   ]
  },
  {
   "cell_type": "code",
   "execution_count": 17,
   "metadata": {},
   "outputs": [
    {
     "name": "stdout",
     "output_type": "stream",
     "text": [
      "[0, 1, 2, 27, 31]\n"
     ]
    }
   ],
   "source": [
    "# Find the index value for each automobile having a price value of \"high\" \n",
    "# and a maintenance value that is not \"low\" using a list comprehension. \n",
    "# Print your results to the screen.\n",
    "\n",
    "# create a list 'high_index' for index value\n",
    "high_index = []\n",
    "# using a list comprehension, in range len(Price),\n",
    "# if the value of the Price[i] is 'high'and the value of Maintenance_cost[i] not'low'\n",
    "\n",
    "high_index = [i for i in range(len(Price)) if (Price[i] == 'high' and Maintenance_cost[i]!= 'low')]\n",
    "# print the high_index \n",
    "print(high_index)"
   ]
  },
  {
   "cell_type": "markdown",
   "metadata": {},
   "source": [
    "# Fourth task"
   ]
  },
  {
   "cell_type": "code",
   "execution_count": 21,
   "metadata": {},
   "outputs": [
    {
     "name": "stdout",
     "output_type": "stream",
     "text": [
      "[1, 2, 3, 'A', 'B', 'C', 4, 5, 'D', 'E']\n"
     ]
    }
   ],
   "source": [
    "# Implement the same logic(shown on assignment pdf for the fourth task) using a list comprehension. \n",
    "# Apply your list comprehension to the nlist list of lists shown above. \n",
    "# Print your newly created list to the screen.\n",
    "\n",
    "# Show a nlist\n",
    "nlist = [[1, 2, 3], ['A', 'B', 'C'], [4, 5], ['D', 'E']]\n",
    "# create a list 'flist' \n",
    "flist = [y for x in nlist for y in x]\n",
    "# print the flist\n",
    "print(flist)"
   ]
  },
  {
   "cell_type": "markdown",
   "metadata": {},
   "source": [
    "# Fifth task"
   ]
  },
  {
   "cell_type": "code",
   "execution_count": 30,
   "metadata": {},
   "outputs": [
    {
     "data": {
      "text/plain": [
       "{'A0', 'A1', 'A2', 'A3', 'A4'}"
      ]
     },
     "execution_count": 30,
     "metadata": {},
     "output_type": "execute_result"
    }
   ],
   "source": [
    "# Create a user defined function that accepts as input one of the seven automobile attribute lists \n",
    "# as well as an integer value and returns a Python dict object.\n",
    "\n",
    "# Create a user defined function\n",
    "def makedict(mylist, x):\n",
    "    \n",
    "    if x > len(mylist):\n",
    "        print ('Fail')\n",
    "    else:\n",
    "        Python_dict={}\n",
    "        Python_dict = {'A'+ str(i) for i in range(x)}\n",
    "\n",
    "    return (Python_dict)\n",
    "makedict(Lugg_capacity, 5)"
   ]
  },
  {
   "cell_type": "markdown",
   "metadata": {},
   "source": [
    "# Last Task"
   ]
  },
  {
   "cell_type": "code",
   "execution_count": 36,
   "metadata": {},
   "outputs": [
    {
     "ename": "TypeError",
     "evalue": "'set' object is not subscriptable",
     "output_type": "error",
     "traceback": [
      "\u001b[0;31m---------------------------------------------------------------------------\u001b[0m",
      "\u001b[0;31mTypeError\u001b[0m                                 Traceback (most recent call last)",
      "\u001b[0;32m<ipython-input-36-466bab903130>\u001b[0m in \u001b[0;36m<module>\u001b[0;34m\u001b[0m\n\u001b[1;32m      4\u001b[0m \u001b[0mluggagee\u001b[0m \u001b[0;34m=\u001b[0m \u001b[0mmakedict\u001b[0m\u001b[0;34m(\u001b[0m\u001b[0mLugg_capacity\u001b[0m\u001b[0;34m,\u001b[0m\u001b[0;36m7\u001b[0m\u001b[0;34m)\u001b[0m\u001b[0;34m\u001b[0m\u001b[0;34m\u001b[0m\u001b[0m\n\u001b[1;32m      5\u001b[0m \u001b[0;34m\u001b[0m\u001b[0m\n\u001b[0;32m----> 6\u001b[0;31m \u001b[0mprint\u001b[0m\u001b[0;34m(\u001b[0m\u001b[0mpricee\u001b[0m\u001b[0;34m[\u001b[0m\u001b[0;34m'A4'\u001b[0m\u001b[0;34m]\u001b[0m\u001b[0;34m)\u001b[0m\u001b[0;34m\u001b[0m\u001b[0;34m\u001b[0m\u001b[0m\n\u001b[0m\u001b[1;32m      7\u001b[0m \u001b[0mprint\u001b[0m\u001b[0;34m(\u001b[0m\u001b[0mluggagee\u001b[0m\u001b[0;34m[\u001b[0m\u001b[0;34m'A4'\u001b[0m\u001b[0;34m]\u001b[0m\u001b[0;34m)\u001b[0m\u001b[0;34m\u001b[0m\u001b[0;34m\u001b[0m\u001b[0m\n",
      "\u001b[0;31mTypeError\u001b[0m: 'set' object is not subscriptable"
     ]
    }
   ],
   "source": [
    "#use it to create two new dict objects containing the first seven elements of the \n",
    "#‘Price’ and ‘Luggage’ lists, respectively.\n",
    "pricee = makedict(Price, 7)\n",
    "luggagee = makedict(Lugg_capacity,7)\n",
    "\n",
    "print('Price:', pricee['A4'])\n",
    "print('Lugg_capacity:',luggagee['A4'])"
   ]
  },
  {
   "cell_type": "code",
   "execution_count": null,
   "metadata": {},
   "outputs": [],
   "source": []
  }
 ],
 "metadata": {
  "kernelspec": {
   "display_name": "Python 3",
   "language": "python",
   "name": "python3"
  },
  "language_info": {
   "codemirror_mode": {
    "name": "ipython",
    "version": 3
   },
   "file_extension": ".py",
   "mimetype": "text/x-python",
   "name": "python",
   "nbconvert_exporter": "python",
   "pygments_lexer": "ipython3",
   "version": "3.7.3"
  }
 },
 "nbformat": 4,
 "nbformat_minor": 2
}
